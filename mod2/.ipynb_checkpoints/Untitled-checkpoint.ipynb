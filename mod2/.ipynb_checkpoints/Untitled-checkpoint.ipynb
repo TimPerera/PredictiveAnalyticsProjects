{
 "cells": [
  {
   "cell_type": "code",
   "execution_count": 3,
   "id": "3cff4051",
   "metadata": {},
   "outputs": [
    {
     "name": "stderr",
     "output_type": "stream",
     "text": [
      "--- Logging error ---\n",
      "Traceback (most recent call last):\n",
      "  File \"/Library/Developer/CommandLineTools/Library/Frameworks/Python3.framework/Versions/3.7/lib/python3.7/logging/__init__.py\", line 1034, in emit\n",
      "    msg = self.format(record)\n",
      "  File \"/Library/Developer/CommandLineTools/Library/Frameworks/Python3.framework/Versions/3.7/lib/python3.7/logging/__init__.py\", line 880, in format\n",
      "    return fmt.format(record)\n",
      "  File \"/Library/Developer/CommandLineTools/Library/Frameworks/Python3.framework/Versions/3.7/lib/python3.7/logging/__init__.py\", line 622, in format\n",
      "    s = self.formatMessage(record)\n",
      "  File \"/Library/Developer/CommandLineTools/Library/Frameworks/Python3.framework/Versions/3.7/lib/python3.7/logging/__init__.py\", line 591, in formatMessage\n",
      "    return self._style.format(record)\n",
      "  File \"/Library/Developer/CommandLineTools/Library/Frameworks/Python3.framework/Versions/3.7/lib/python3.7/logging/__init__.py\", line 433, in format\n",
      "    return self._fmt % record.__dict__\n",
      "ValueError: unsupported format character '%' (0x25) at index 29\n",
      "Call stack:\n",
      "  File \"/Library/Developer/CommandLineTools/Library/Frameworks/Python3.framework/Versions/3.7/lib/python3.7/runpy.py\", line 193, in _run_module_as_main\n",
      "    \"__main__\", mod_spec)\n",
      "  File \"/Library/Developer/CommandLineTools/Library/Frameworks/Python3.framework/Versions/3.7/lib/python3.7/runpy.py\", line 85, in _run_code\n",
      "    exec(code, run_globals)\n",
      "  File \"/Users/timothy/NEU Work/ALY6020/Coding Assignments/mod2/.venv/lib/python3.7/site-packages/ipykernel_launcher.py\", line 17, in <module>\n",
      "    app.launch_new_instance()\n",
      "  File \"/Users/timothy/NEU Work/ALY6020/Coding Assignments/mod2/.venv/lib/python3.7/site-packages/traitlets/config/application.py\", line 1043, in launch_instance\n",
      "    app.start()\n",
      "  File \"/Users/timothy/NEU Work/ALY6020/Coding Assignments/mod2/.venv/lib/python3.7/site-packages/ipykernel/kernelapp.py\", line 712, in start\n",
      "    self.io_loop.start()\n",
      "  File \"/Users/timothy/NEU Work/ALY6020/Coding Assignments/mod2/.venv/lib/python3.7/site-packages/tornado/platform/asyncio.py\", line 215, in start\n",
      "    self.asyncio_loop.run_forever()\n",
      "  File \"/Library/Developer/CommandLineTools/Library/Frameworks/Python3.framework/Versions/3.7/lib/python3.7/asyncio/base_events.py\", line 539, in run_forever\n",
      "    self._run_once()\n",
      "  File \"/Library/Developer/CommandLineTools/Library/Frameworks/Python3.framework/Versions/3.7/lib/python3.7/asyncio/base_events.py\", line 1775, in _run_once\n",
      "    handle._run()\n",
      "  File \"/Library/Developer/CommandLineTools/Library/Frameworks/Python3.framework/Versions/3.7/lib/python3.7/asyncio/events.py\", line 88, in _run\n",
      "    self._context.run(self._callback, *self._args)\n",
      "  File \"/Users/timothy/NEU Work/ALY6020/Coding Assignments/mod2/.venv/lib/python3.7/site-packages/ipykernel/kernelbase.py\", line 510, in dispatch_queue\n",
      "    await self.process_one()\n",
      "  File \"/Users/timothy/NEU Work/ALY6020/Coding Assignments/mod2/.venv/lib/python3.7/site-packages/ipykernel/kernelbase.py\", line 499, in process_one\n",
      "    await dispatch(*args)\n",
      "  File \"/Users/timothy/NEU Work/ALY6020/Coding Assignments/mod2/.venv/lib/python3.7/site-packages/ipykernel/kernelbase.py\", line 406, in dispatch_shell\n",
      "    await result\n",
      "  File \"/Users/timothy/NEU Work/ALY6020/Coding Assignments/mod2/.venv/lib/python3.7/site-packages/ipykernel/kernelbase.py\", line 730, in execute_request\n",
      "    reply_content = await reply_content\n",
      "  File \"/Users/timothy/NEU Work/ALY6020/Coding Assignments/mod2/.venv/lib/python3.7/site-packages/ipykernel/ipkernel.py\", line 387, in do_execute\n",
      "    cell_id=cell_id,\n",
      "  File \"/Users/timothy/NEU Work/ALY6020/Coding Assignments/mod2/.venv/lib/python3.7/site-packages/ipykernel/zmqshell.py\", line 528, in run_cell\n",
      "    return super().run_cell(*args, **kwargs)\n",
      "  File \"/Users/timothy/NEU Work/ALY6020/Coding Assignments/mod2/.venv/lib/python3.7/site-packages/IPython/core/interactiveshell.py\", line 2976, in run_cell\n",
      "    raw_cell, store_history, silent, shell_futures, cell_id\n",
      "  File \"/Users/timothy/NEU Work/ALY6020/Coding Assignments/mod2/.venv/lib/python3.7/site-packages/IPython/core/interactiveshell.py\", line 3030, in _run_cell\n",
      "    return runner(coro)\n",
      "  File \"/Users/timothy/NEU Work/ALY6020/Coding Assignments/mod2/.venv/lib/python3.7/site-packages/IPython/core/async_helpers.py\", line 78, in _pseudo_sync_runner\n",
      "    coro.send(None)\n",
      "  File \"/Users/timothy/NEU Work/ALY6020/Coding Assignments/mod2/.venv/lib/python3.7/site-packages/IPython/core/interactiveshell.py\", line 3258, in run_cell_async\n",
      "    interactivity=interactivity, compiler=compiler, result=result)\n",
      "  File \"/Users/timothy/NEU Work/ALY6020/Coding Assignments/mod2/.venv/lib/python3.7/site-packages/IPython/core/interactiveshell.py\", line 3473, in run_ast_nodes\n",
      "    if (await self.run_code(code, result,  async_=asy)):\n",
      "  File \"/Users/timothy/NEU Work/ALY6020/Coding Assignments/mod2/.venv/lib/python3.7/site-packages/IPython/core/interactiveshell.py\", line 3553, in run_code\n",
      "    exec(code_obj, self.user_global_ns, self.user_ns)\n",
      "  File \"/var/folders/p9/1ldq0msd1ml8q8v1clvgc8w40000gn/T/ipykernel_44702/657533157.py\", line 9, in <module>\n",
      "    logger.info('Logger Setup Successfully')\n",
      "Message: 'Logger Setup Successfully'\n",
      "Arguments: ()\n"
     ]
    }
   ],
   "source": [
    "# setup logging\n",
    "import logging\n",
    "logging.basicConfig(\n",
    "    level=logging.INFO,\n",
    "    format='%(asctime)s - %(levelname)s - %(lineno)d:\\n%(message)s',\n",
    "    datefmt='%H:%M:%S'\n",
    "    )\n",
    "\n",
    "logger = logging.getLogger(__name__)\n",
    "logger.info('Logger Setup Successfully')"
   ]
  }
 ],
 "metadata": {
  "kernelspec": {
   "display_name": "Python 3 (ipykernel)",
   "language": "python",
   "name": "python3"
  },
  "language_info": {
   "codemirror_mode": {
    "name": "ipython",
    "version": 3
   },
   "file_extension": ".py",
   "mimetype": "text/x-python",
   "name": "python",
   "nbconvert_exporter": "python",
   "pygments_lexer": "ipython3",
   "version": "3.7.3"
  }
 },
 "nbformat": 4,
 "nbformat_minor": 5
}
